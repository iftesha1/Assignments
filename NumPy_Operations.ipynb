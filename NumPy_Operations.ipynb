{
  "nbformat": 4,
  "nbformat_minor": 0,
  "metadata": {
    "colab": {
      "name": "NumPy Operations.ipynb",
      "provenance": [],
      "collapsed_sections": [],
      "include_colab_link": true
    },
    "kernelspec": {
      "name": "python3",
      "display_name": "Python 3"
    }
  },
  "cells": [
    {
      "cell_type": "markdown",
      "metadata": {
        "id": "view-in-github",
        "colab_type": "text"
      },
      "source": [
        "<a href=\"https://colab.research.google.com/github/iftesha1/Python-for-Data-Science_Assignments/blob/main/NumPy_Operations.ipynb\" target=\"_parent\"><img src=\"https://colab.research.google.com/assets/colab-badge.svg\" alt=\"Open In Colab\"/></a>"
      ]
    },
    {
      "cell_type": "markdown",
      "metadata": {
        "id": "MKXTc2Tas23T"
      },
      "source": [
        "# <u> Use only those concepts which have been taught till now </u>"
      ]
    },
    {
      "cell_type": "code",
      "metadata": {
        "id": "0V3Xtuh9siNn"
      },
      "source": [
        "import numpy as np"
      ],
      "execution_count": 2,
      "outputs": []
    },
    {
      "cell_type": "markdown",
      "metadata": {
        "id": "Ase3qjp9cJUC"
      },
      "source": [
        "# <u>**Problem 1**</u>\n",
        "\n",
        "### What is the average value of the first 5 rows of the third and fourth columns?\n",
        "\n"
      ]
    },
    {
      "cell_type": "code",
      "metadata": {
        "id": "xj0SaK7smcPu",
        "outputId": "c1d30dda-f79a-43ab-bb2f-d94e5621996b",
        "colab": {
          "base_uri": "https://localhost:8080/"
        }
      },
      "source": [
        "np.random.seed(21) # This guarantees the code will generate the same set of random numbers whenever executed\n",
        "random_integers = np.random.randint(1,high=500000, size=(20, 5))\n",
        "random_integers"
      ],
      "execution_count": null,
      "outputs": [
        {
          "output_type": "execute_result",
          "data": {
            "text/plain": [
              "array([[ 80842, 333008, 202553, 140037,  81969],\n",
              "       [ 63857,  42105, 261540, 481981, 176739],\n",
              "       [489984, 326386, 110795, 394863,  25024],\n",
              "       [ 38317,  49982, 408830, 485118,  16119],\n",
              "       [407675, 231729, 265455, 109413, 103399],\n",
              "       [174677, 343356, 301717, 224120, 401101],\n",
              "       [140473, 254634, 112262,  25063, 108262],\n",
              "       [375059, 406983, 208947, 115641, 296685],\n",
              "       [444899, 129585, 171318, 313094, 425041],\n",
              "       [188411, 335140, 141681,  59641, 211420],\n",
              "       [287650,   8973, 477425, 382803, 465168],\n",
              "       [  3975,  32213, 160603, 275485, 388234],\n",
              "       [246225,  56174, 244097,   9350, 496966],\n",
              "       [225516, 273338,  73335, 283013, 212813],\n",
              "       [ 38175, 282399, 318413, 337639, 379802],\n",
              "       [198049, 101115, 419547, 260219, 325793],\n",
              "       [148593, 425024, 348570, 117968, 107007],\n",
              "       [ 52547, 180346, 178760, 305186, 262153],\n",
              "       [ 11835, 449971, 494184, 472031, 353049],\n",
              "       [476442,  35455, 191553, 384154,  29917]])"
            ]
          },
          "metadata": {},
          "execution_count": 2
        }
      ]
    },
    {
      "cell_type": "code",
      "metadata": {
        "id": "N1hhYCZw3V1c",
        "outputId": "c058fcdd-c065-4d07-8f22-4027f6d752d1",
        "colab": {
          "base_uri": "https://localhost:8080/"
        }
      },
      "source": [
        "# Your code here\n",
        "\n",
        "req_arr=random_integers[0:5,2:4]\n",
        "print('Required mean is',np.mean(req_arr))\n",
        "\n"
      ],
      "execution_count": null,
      "outputs": [
        {
          "output_type": "stream",
          "name": "stdout",
          "text": [
            "Required mean is 286058.5\n"
          ]
        }
      ]
    },
    {
      "cell_type": "markdown",
      "metadata": {
        "id": "POAj5sBgd3gd"
      },
      "source": [
        "#<u>**Problem 2**</u>\n",
        "\n",
        "### In this problem, we are going to calculate distances between some pairs of points :\n",
        "\n",
        "### <u> Measures of distances </u>\n",
        "* ### Euclidean Distance : The distance between two points $(x_{1},y_{1})$ , $(x_{2},y_{2})$ is defined as :\n",
        "${\\displaystyle d(x,y)={\\sqrt {(x_{1}-x_{2})^{2}+(y_{1}-y_{2})^{2}}}.}$\n",
        "\n",
        "* ### Manhattan Distance : The distance between two points $(x_{1},y_{1})$ , $(x_{2},y_{2})$ is defined as :\n",
        "${\\displaystyle d(x,y)=|x_{1}-x_{2}|+|y_{1}-y_{2}|}$\n"
      ]
    },
    {
      "cell_type": "markdown",
      "metadata": {
        "id": "lw7TLsfd-eXc"
      },
      "source": [
        "### Create a 2-D array of 10 points where the x-coordinates and the y-coordinates can take random integral values between 5 and 20.\n",
        "\n",
        "\n",
        "### Next, create two 1-D arrays(one for  Euclidean distance and the other for  Manhattan distance) for these points\n"
      ]
    },
    {
      "cell_type": "code",
      "metadata": {
        "id": "TOEq4PEP5y8X",
        "outputId": "28892f08-1ed3-4236-857e-0c39662d077e",
        "colab": {
          "base_uri": "https://localhost:8080/"
        }
      },
      "source": [
        "# Create the 10 points\n",
        "arr=np.random.randint(5,20,(10,2))\n",
        "print(arr)"
      ],
      "execution_count": null,
      "outputs": [
        {
          "output_type": "stream",
          "name": "stdout",
          "text": [
            "[[19 12]\n",
            " [10 16]\n",
            " [ 7 12]\n",
            " [10 19]\n",
            " [ 5  9]\n",
            " [ 7  7]\n",
            " [ 5 14]\n",
            " [16  6]\n",
            " [ 5  8]\n",
            " [ 6  8]]\n"
          ]
        }
      ]
    },
    {
      "cell_type": "code",
      "metadata": {
        "id": "n86qvsfF6PO2",
        "outputId": "2036b1b4-6b80-49c5-a2b1-11f2185703d6",
        "colab": {
          "base_uri": "https://localhost:8080/"
        }
      },
      "source": [
        "# Calculate Euclidean distances between these pairs of points (total 10*10 = 100 pairs including self pairs). This should give you a 10*10 2-D array where each value corresponds to the distance between a pair\n",
        "\n",
        "dis=[]\n",
        "for i in range(0,10):\n",
        "    a=0\n",
        "    b=10\n",
        "    while a<b:\n",
        "        a1=arr[i]\n",
        "        a2=arr[a]\n",
        "        a=a+1\n",
        "        sum_sq = np.sum(np.square(a1 - a2))\n",
        "        dis.append(np.sqrt(sum_sq))\n",
        "dis_arr=np.array(dis,dtype=int)\n",
        "dis_arr=np.reshape(dis_arr,(10,10))\n",
        "print(dis_arr)\n",
        "\n"
      ],
      "execution_count": null,
      "outputs": [
        {
          "output_type": "stream",
          "name": "stdout",
          "text": [
            "[[ 0  9 12 11 14 13 14  6 14 13]\n",
            " [ 9  0  5  3  8  9  5 11  9  8]\n",
            " [12  5  0  7  3  5  2 10  4  4]\n",
            " [11  3  7  0 11 12  7 14 12 11]\n",
            " [14  8  3 11  0  2  5 11  1  1]\n",
            " [13  9  5 12  2  0  7  9  2  1]\n",
            " [14  5  2  7  5  7  0 13  6  6]\n",
            " [ 6 11 10 14 11  9 13  0 11 10]\n",
            " [14  9  4 12  1  2  6 11  0  1]\n",
            " [13  8  4 11  1  1  6 10  1  0]]\n"
          ]
        }
      ]
    },
    {
      "cell_type": "code",
      "metadata": {
        "id": "-FIU9Wp97V3P",
        "outputId": "2d9ff03f-accb-4a12-b72b-7a2788909f36",
        "colab": {
          "base_uri": "https://localhost:8080/"
        }
      },
      "source": [
        "# Calculate Manhattan distances between these pairs of points (total 10*10 = 100 pairs inlcuding self pairs).This should give you a 10*10 2-D array where each value corresponds to the distance between a pair.\n",
        "\n",
        "mandis=[]\n",
        "for i in range(0,10):\n",
        "    a=0\n",
        "    b=10\n",
        "    while a<b:\n",
        "        a1=arr[i]\n",
        "        a2=arr[a]\n",
        "        a=a+1\n",
        "        sum_abs = np.sum(np.absolute(a1 - a2))\n",
        "        mandis.append(sum_abs)\n",
        "mandis_arr=np.array(mandis)\n",
        "np.reshape(mandis_arr,(10,10))\n",
        "\n"
      ],
      "execution_count": null,
      "outputs": [
        {
          "output_type": "execute_result",
          "data": {
            "text/plain": [
              "array([[ 0, 13, 12, 16, 17, 17, 16,  9, 18, 17],\n",
              "       [13,  0,  7,  3, 12, 12,  7, 16, 13, 12],\n",
              "       [12,  7,  0, 10,  5,  5,  4, 15,  6,  5],\n",
              "       [16,  3, 10,  0, 15, 15, 10, 19, 16, 15],\n",
              "       [17, 12,  5, 15,  0,  4,  5, 14,  1,  2],\n",
              "       [17, 12,  5, 15,  4,  0,  9, 10,  3,  2],\n",
              "       [16,  7,  4, 10,  5,  9,  0, 19,  6,  7],\n",
              "       [ 9, 16, 15, 19, 14, 10, 19,  0, 13, 12],\n",
              "       [18, 13,  6, 16,  1,  3,  6, 13,  0,  1],\n",
              "       [17, 12,  5, 15,  2,  2,  7, 12,  1,  0]])"
            ]
          },
          "metadata": {},
          "execution_count": 6
        }
      ]
    },
    {
      "cell_type": "markdown",
      "metadata": {
        "id": "5ZaKtQlZBLoQ"
      },
      "source": [
        "## Find the closest pairs (excluding self pairs) on the basis of both the distance measures"
      ]
    },
    {
      "cell_type": "code",
      "metadata": {
        "id": "AeKJGamV6qnu",
        "outputId": "e8ff1b58-4e1d-49a3-b38c-d85ff8cdaad4",
        "colab": {
          "base_uri": "https://localhost:8080/"
        }
      },
      "source": [
        "# Your code here\n",
        "np.min(dis_arr)\n"
      ],
      "execution_count": null,
      "outputs": [
        {
          "output_type": "execute_result",
          "data": {
            "text/plain": [
              "0"
            ]
          },
          "metadata": {},
          "execution_count": 7
        }
      ]
    },
    {
      "cell_type": "markdown",
      "metadata": {
        "id": "rnEIpxdzfIhF"
      },
      "source": [
        "# <u>**Problem 3**</u>\n",
        "\n",
        "## Extract all the contiguous 3x3 blocks from a random 10x10 matrix. For example, the first matrix corresponds to [:3,:3], then the second matrix corresponds to [:3,1:4],.... Once you have covered the first three rows, then the next set of matrices would be [1:4,:3],[1:4,1:4],.... and so on and so forth. The last matrix would be [7:10,7:10]"
      ]
    },
    {
      "cell_type": "code",
      "metadata": {
        "id": "NuQh8LLBma-0",
        "outputId": "fd9a2238-0a56-4b32-c162-618b7d44f69b",
        "colab": {
          "base_uri": "https://localhost:8080/"
        }
      },
      "source": [
        "# Your code below ..\n",
        "matrix= np.random.randint(1,100,(10,10))\n",
        "print(matrix)\n",
        "n = 3\n",
        "i = 1 + (matrix.shape[0]-3)\n",
        "j = 1 + (matrix.shape[1]-3)\n",
        "all_matrix = np.lib.stride_tricks.as_strided(matrix, shape=(i, j, n, n), strides=matrix.strides + matrix.strides)\n",
        "print(all_matrix)\n"
      ],
      "execution_count": null,
      "outputs": [
        {
          "output_type": "stream",
          "name": "stdout",
          "text": [
            "[[ 2 28 34 33 32 67 87 75 94 90]\n",
            " [82 68  2 66 80 34 50 34 12 12]\n",
            " [78 56 37 87 82 74 30  4 95 39]\n",
            " [47 93 25 66 42  2 93 81 62 26]\n",
            " [36 11 74 69 29 17 35 42  1 57]\n",
            " [31 79  2 79 66 37 62 54  1  4]\n",
            " [ 8 33 89 54 95 11 94 24 44 40]\n",
            " [95 13 36 99 83 91 32 49 80 90]\n",
            " [19 15  4 27 45 13 66 70 55 75]\n",
            " [50  4 23  6 12 20 99 40 12  1]]\n",
            "[[[[ 2 28 34]\n",
            "   [82 68  2]\n",
            "   [78 56 37]]\n",
            "\n",
            "  [[28 34 33]\n",
            "   [68  2 66]\n",
            "   [56 37 87]]\n",
            "\n",
            "  [[34 33 32]\n",
            "   [ 2 66 80]\n",
            "   [37 87 82]]\n",
            "\n",
            "  [[33 32 67]\n",
            "   [66 80 34]\n",
            "   [87 82 74]]\n",
            "\n",
            "  [[32 67 87]\n",
            "   [80 34 50]\n",
            "   [82 74 30]]\n",
            "\n",
            "  [[67 87 75]\n",
            "   [34 50 34]\n",
            "   [74 30  4]]\n",
            "\n",
            "  [[87 75 94]\n",
            "   [50 34 12]\n",
            "   [30  4 95]]\n",
            "\n",
            "  [[75 94 90]\n",
            "   [34 12 12]\n",
            "   [ 4 95 39]]]\n",
            "\n",
            "\n",
            " [[[82 68  2]\n",
            "   [78 56 37]\n",
            "   [47 93 25]]\n",
            "\n",
            "  [[68  2 66]\n",
            "   [56 37 87]\n",
            "   [93 25 66]]\n",
            "\n",
            "  [[ 2 66 80]\n",
            "   [37 87 82]\n",
            "   [25 66 42]]\n",
            "\n",
            "  [[66 80 34]\n",
            "   [87 82 74]\n",
            "   [66 42  2]]\n",
            "\n",
            "  [[80 34 50]\n",
            "   [82 74 30]\n",
            "   [42  2 93]]\n",
            "\n",
            "  [[34 50 34]\n",
            "   [74 30  4]\n",
            "   [ 2 93 81]]\n",
            "\n",
            "  [[50 34 12]\n",
            "   [30  4 95]\n",
            "   [93 81 62]]\n",
            "\n",
            "  [[34 12 12]\n",
            "   [ 4 95 39]\n",
            "   [81 62 26]]]\n",
            "\n",
            "\n",
            " [[[78 56 37]\n",
            "   [47 93 25]\n",
            "   [36 11 74]]\n",
            "\n",
            "  [[56 37 87]\n",
            "   [93 25 66]\n",
            "   [11 74 69]]\n",
            "\n",
            "  [[37 87 82]\n",
            "   [25 66 42]\n",
            "   [74 69 29]]\n",
            "\n",
            "  [[87 82 74]\n",
            "   [66 42  2]\n",
            "   [69 29 17]]\n",
            "\n",
            "  [[82 74 30]\n",
            "   [42  2 93]\n",
            "   [29 17 35]]\n",
            "\n",
            "  [[74 30  4]\n",
            "   [ 2 93 81]\n",
            "   [17 35 42]]\n",
            "\n",
            "  [[30  4 95]\n",
            "   [93 81 62]\n",
            "   [35 42  1]]\n",
            "\n",
            "  [[ 4 95 39]\n",
            "   [81 62 26]\n",
            "   [42  1 57]]]\n",
            "\n",
            "\n",
            " [[[47 93 25]\n",
            "   [36 11 74]\n",
            "   [31 79  2]]\n",
            "\n",
            "  [[93 25 66]\n",
            "   [11 74 69]\n",
            "   [79  2 79]]\n",
            "\n",
            "  [[25 66 42]\n",
            "   [74 69 29]\n",
            "   [ 2 79 66]]\n",
            "\n",
            "  [[66 42  2]\n",
            "   [69 29 17]\n",
            "   [79 66 37]]\n",
            "\n",
            "  [[42  2 93]\n",
            "   [29 17 35]\n",
            "   [66 37 62]]\n",
            "\n",
            "  [[ 2 93 81]\n",
            "   [17 35 42]\n",
            "   [37 62 54]]\n",
            "\n",
            "  [[93 81 62]\n",
            "   [35 42  1]\n",
            "   [62 54  1]]\n",
            "\n",
            "  [[81 62 26]\n",
            "   [42  1 57]\n",
            "   [54  1  4]]]\n",
            "\n",
            "\n",
            " [[[36 11 74]\n",
            "   [31 79  2]\n",
            "   [ 8 33 89]]\n",
            "\n",
            "  [[11 74 69]\n",
            "   [79  2 79]\n",
            "   [33 89 54]]\n",
            "\n",
            "  [[74 69 29]\n",
            "   [ 2 79 66]\n",
            "   [89 54 95]]\n",
            "\n",
            "  [[69 29 17]\n",
            "   [79 66 37]\n",
            "   [54 95 11]]\n",
            "\n",
            "  [[29 17 35]\n",
            "   [66 37 62]\n",
            "   [95 11 94]]\n",
            "\n",
            "  [[17 35 42]\n",
            "   [37 62 54]\n",
            "   [11 94 24]]\n",
            "\n",
            "  [[35 42  1]\n",
            "   [62 54  1]\n",
            "   [94 24 44]]\n",
            "\n",
            "  [[42  1 57]\n",
            "   [54  1  4]\n",
            "   [24 44 40]]]\n",
            "\n",
            "\n",
            " [[[31 79  2]\n",
            "   [ 8 33 89]\n",
            "   [95 13 36]]\n",
            "\n",
            "  [[79  2 79]\n",
            "   [33 89 54]\n",
            "   [13 36 99]]\n",
            "\n",
            "  [[ 2 79 66]\n",
            "   [89 54 95]\n",
            "   [36 99 83]]\n",
            "\n",
            "  [[79 66 37]\n",
            "   [54 95 11]\n",
            "   [99 83 91]]\n",
            "\n",
            "  [[66 37 62]\n",
            "   [95 11 94]\n",
            "   [83 91 32]]\n",
            "\n",
            "  [[37 62 54]\n",
            "   [11 94 24]\n",
            "   [91 32 49]]\n",
            "\n",
            "  [[62 54  1]\n",
            "   [94 24 44]\n",
            "   [32 49 80]]\n",
            "\n",
            "  [[54  1  4]\n",
            "   [24 44 40]\n",
            "   [49 80 90]]]\n",
            "\n",
            "\n",
            " [[[ 8 33 89]\n",
            "   [95 13 36]\n",
            "   [19 15  4]]\n",
            "\n",
            "  [[33 89 54]\n",
            "   [13 36 99]\n",
            "   [15  4 27]]\n",
            "\n",
            "  [[89 54 95]\n",
            "   [36 99 83]\n",
            "   [ 4 27 45]]\n",
            "\n",
            "  [[54 95 11]\n",
            "   [99 83 91]\n",
            "   [27 45 13]]\n",
            "\n",
            "  [[95 11 94]\n",
            "   [83 91 32]\n",
            "   [45 13 66]]\n",
            "\n",
            "  [[11 94 24]\n",
            "   [91 32 49]\n",
            "   [13 66 70]]\n",
            "\n",
            "  [[94 24 44]\n",
            "   [32 49 80]\n",
            "   [66 70 55]]\n",
            "\n",
            "  [[24 44 40]\n",
            "   [49 80 90]\n",
            "   [70 55 75]]]\n",
            "\n",
            "\n",
            " [[[95 13 36]\n",
            "   [19 15  4]\n",
            "   [50  4 23]]\n",
            "\n",
            "  [[13 36 99]\n",
            "   [15  4 27]\n",
            "   [ 4 23  6]]\n",
            "\n",
            "  [[36 99 83]\n",
            "   [ 4 27 45]\n",
            "   [23  6 12]]\n",
            "\n",
            "  [[99 83 91]\n",
            "   [27 45 13]\n",
            "   [ 6 12 20]]\n",
            "\n",
            "  [[83 91 32]\n",
            "   [45 13 66]\n",
            "   [12 20 99]]\n",
            "\n",
            "  [[91 32 49]\n",
            "   [13 66 70]\n",
            "   [20 99 40]]\n",
            "\n",
            "  [[32 49 80]\n",
            "   [66 70 55]\n",
            "   [99 40 12]]\n",
            "\n",
            "  [[49 80 90]\n",
            "   [70 55 75]\n",
            "   [40 12  1]]]]\n"
          ]
        }
      ]
    },
    {
      "cell_type": "markdown",
      "metadata": {
        "id": "UtGDDH9Qq_2M"
      },
      "source": [
        "#<u>**Problem 4**</u>\n",
        "\n",
        "### Write a function which finds the nearest value from a given value in an array of random N elements. Suppose you created an 1-D array with 15 elements taking values between 10 and 500. Your function would take any input from these values and return the nearest value. (You can use np.abs() function)"
      ]
    },
    {
      "cell_type": "code",
      "metadata": {
        "id": "oknMAmKWFNSX",
        "outputId": "c42adb61-1d69-4b08-d362-b7cf230fb04b",
        "colab": {
          "base_uri": "https://localhost:8080/"
        }
      },
      "source": [
        "# Your function below\n",
        "\n",
        "array = np.random.randint(10,500,size=(15))\n",
        "print('The given array is \\n',array)\n",
        "def nearvalue():\n",
        "    value=int(input(\"\\n Give number out of 10 to 500:\")) \n",
        "    dist=[]\n",
        "    dist.append(np.abs(array-value))\n",
        "    print(\"\\n The respective distances between the value and array points are \\n\",dist)\n",
        "    dist=np.array(dist)\n",
        "    n=np.argmin(dist)\n",
        "    return(\" The nearest value from the input is\", array[n])\n",
        "nearvalue()"
      ],
      "execution_count": 10,
      "outputs": [
        {
          "output_type": "stream",
          "name": "stdout",
          "text": [
            "The given array is \n",
            " [355 182 443  35 362 435 341 411 496 377 151 341  24 402 478]\n",
            "\n",
            " Give number out of 10 to 500:300\n",
            "\n",
            " The respective distances between the value and array points are \n",
            " [array([ 55, 118, 143, 265,  62, 135,  41, 111, 196,  77, 149,  41, 276,\n",
            "       102, 178])]\n"
          ]
        },
        {
          "output_type": "execute_result",
          "data": {
            "text/plain": [
              "(' The nearest value from the input is', 341)"
            ]
          },
          "metadata": {},
          "execution_count": 10
        }
      ]
    },
    {
      "cell_type": "code",
      "source": [
        ""
      ],
      "metadata": {
        "id": "lkxvmeLHxCRJ"
      },
      "execution_count": null,
      "outputs": []
    }
  ]
}